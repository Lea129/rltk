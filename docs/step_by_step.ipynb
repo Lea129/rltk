{
 "cells": [
  {
   "cell_type": "markdown",
   "metadata": {},
   "source": [
    "# Step-by-step Example\n",
    "\n",
    "In this example, I'm going to show you how to use RLTK to solve a real problem.\n",
    "\n",
    "Outline:\n",
    "\n",
    "- Problem & Dataset analysis\n",
    "- Construct Record classes & Datasets\n",
    "- Rule based solution\n",
    "    - Build ground truth\n",
    "    - Generate results\n",
    "    - Evaluation\n",
    "- TODO: machine learning solution\n",
    "    - Generate stratified ground truth\n",
    "    - Train test split\n",
    "    - Feature vector\n",
    "- TODO: Blocking\n",
    "- TODO: Perfomance optimization\n",
    "\n",
    "## Problem & Dataset analysis\n",
    "\n",
    "The data we used here is called Abt-Buy, which can be found [here](https://github.com/usc-isi-i2/rltk-experimentation/tree/master/datasets/Abt-Buy). Abt.com (Abt.csv) and Buy.com (Buy.csv) are two e-commerce retailers, the goal is to find all matches (abt_buy_perfectMapping.csv) of products between these two files.\n",
    "\n",
    "Let's take a look of these files first. `wc`, `less` and `grep` are great tools to start with, then `pandas` or other data analysis tools / libraries can tell you more detailed information. Here's what I will do:"
   ]
  },
  {
   "cell_type": "code",
   "execution_count": 17,
   "metadata": {
    "collapsed": true
   },
   "outputs": [],
   "source": [
    "# initialization\n",
    "import os\n",
    "if not os.getcwd().endswith('rltk-experimentation'):\n",
    "    os.chdir('../../rltk-experimentation')\n",
    "import pandas as pd\n",
    "from IPython.display import display"
   ]
  },
  {
   "cell_type": "code",
   "execution_count": 18,
   "metadata": {},
   "outputs": [
    {
     "name": "stdout",
     "output_type": "stream",
     "text": [
      "datasets/Abt-Buy/abt.csv\n",
      "\n",
      "first 5 rows:\n"
     ]
    },
    {
     "data": {
      "text/html": [
       "<div>\n",
       "<style>\n",
       "    .dataframe thead tr:only-child th {\n",
       "        text-align: right;\n",
       "    }\n",
       "\n",
       "    .dataframe thead th {\n",
       "        text-align: left;\n",
       "    }\n",
       "\n",
       "    .dataframe tbody tr th {\n",
       "        vertical-align: top;\n",
       "    }\n",
       "</style>\n",
       "<table border=\"1\" class=\"dataframe\">\n",
       "  <thead>\n",
       "    <tr style=\"text-align: right;\">\n",
       "      <th></th>\n",
       "      <th>id</th>\n",
       "      <th>name</th>\n",
       "      <th>description</th>\n",
       "      <th>price</th>\n",
       "    </tr>\n",
       "  </thead>\n",
       "  <tbody>\n",
       "    <tr>\n",
       "      <th>0</th>\n",
       "      <td>552</td>\n",
       "      <td>Sony Turntable - PSLX350H</td>\n",
       "      <td>Sony Turntable - PSLX350H/ Belt Drive System/ ...</td>\n",
       "      <td>NaN</td>\n",
       "    </tr>\n",
       "    <tr>\n",
       "      <th>1</th>\n",
       "      <td>580</td>\n",
       "      <td>Bose Acoustimass 5 Series III Speaker System -...</td>\n",
       "      <td>Bose Acoustimass 5 Series III Speaker System -...</td>\n",
       "      <td>$399.00</td>\n",
       "    </tr>\n",
       "    <tr>\n",
       "      <th>2</th>\n",
       "      <td>4696</td>\n",
       "      <td>Sony Switcher - SBV40S</td>\n",
       "      <td>Sony Switcher - SBV40S/ Eliminates Disconnecti...</td>\n",
       "      <td>$49.00</td>\n",
       "    </tr>\n",
       "    <tr>\n",
       "      <th>3</th>\n",
       "      <td>5644</td>\n",
       "      <td>Sony 5 Disc CD Player - CDPCE375</td>\n",
       "      <td>Sony 5 Disc CD Player- CDPCE375/ 5 Disc Change...</td>\n",
       "      <td>NaN</td>\n",
       "    </tr>\n",
       "    <tr>\n",
       "      <th>4</th>\n",
       "      <td>6284</td>\n",
       "      <td>Bose 27028 161 Bookshelf Pair Speakers In Whit...</td>\n",
       "      <td>Bose 161 Bookshelf Speakers In White - 161WH/ ...</td>\n",
       "      <td>$158.00</td>\n",
       "    </tr>\n",
       "  </tbody>\n",
       "</table>\n",
       "</div>"
      ],
      "text/plain": [
       "     id                                               name  \\\n",
       "0   552                          Sony Turntable - PSLX350H   \n",
       "1   580  Bose Acoustimass 5 Series III Speaker System -...   \n",
       "2  4696                             Sony Switcher - SBV40S   \n",
       "3  5644                   Sony 5 Disc CD Player - CDPCE375   \n",
       "4  6284  Bose 27028 161 Bookshelf Pair Speakers In Whit...   \n",
       "\n",
       "                                         description    price  \n",
       "0  Sony Turntable - PSLX350H/ Belt Drive System/ ...      NaN  \n",
       "1  Bose Acoustimass 5 Series III Speaker System -...  $399.00  \n",
       "2  Sony Switcher - SBV40S/ Eliminates Disconnecti...   $49.00  \n",
       "3  Sony 5 Disc CD Player- CDPCE375/ 5 Disc Change...      NaN  \n",
       "4  Bose 161 Bookshelf Speakers In White - 161WH/ ...  $158.00  "
      ]
     },
     "metadata": {},
     "output_type": "display_data"
    },
    {
     "name": "stdout",
     "output_type": "stream",
     "text": [
      "\n",
      "total number of rows:\n"
     ]
    },
    {
     "data": {
      "text/html": [
       "<div>\n",
       "<style>\n",
       "    .dataframe thead tr:only-child th {\n",
       "        text-align: right;\n",
       "    }\n",
       "\n",
       "    .dataframe thead th {\n",
       "        text-align: left;\n",
       "    }\n",
       "\n",
       "    .dataframe tbody tr th {\n",
       "        vertical-align: top;\n",
       "    }\n",
       "</style>\n",
       "<table border=\"1\" class=\"dataframe\">\n",
       "  <thead>\n",
       "    <tr style=\"text-align: right;\">\n",
       "      <th></th>\n",
       "      <th>id</th>\n",
       "      <th>name</th>\n",
       "      <th>description</th>\n",
       "      <th>price</th>\n",
       "    </tr>\n",
       "  </thead>\n",
       "  <tbody>\n",
       "    <tr>\n",
       "      <th>total</th>\n",
       "      <td>1081</td>\n",
       "      <td>1081</td>\n",
       "      <td>1081</td>\n",
       "      <td>418</td>\n",
       "    </tr>\n",
       "  </tbody>\n",
       "</table>\n",
       "</div>"
      ],
      "text/plain": [
       "         id  name  description  price\n",
       "total  1081  1081         1081    418"
      ]
     },
     "metadata": {},
     "output_type": "display_data"
    },
    {
     "name": "stdout",
     "output_type": "stream",
     "text": [
      "\n",
      "\n",
      "datasets/Abt-Buy/buy.csv\n",
      "\n",
      "first 5 rows:\n"
     ]
    },
    {
     "data": {
      "text/html": [
       "<div>\n",
       "<style>\n",
       "    .dataframe thead tr:only-child th {\n",
       "        text-align: right;\n",
       "    }\n",
       "\n",
       "    .dataframe thead th {\n",
       "        text-align: left;\n",
       "    }\n",
       "\n",
       "    .dataframe tbody tr th {\n",
       "        vertical-align: top;\n",
       "    }\n",
       "</style>\n",
       "<table border=\"1\" class=\"dataframe\">\n",
       "  <thead>\n",
       "    <tr style=\"text-align: right;\">\n",
       "      <th></th>\n",
       "      <th>id</th>\n",
       "      <th>name</th>\n",
       "      <th>description</th>\n",
       "      <th>manufacturer</th>\n",
       "      <th>price</th>\n",
       "    </tr>\n",
       "  </thead>\n",
       "  <tbody>\n",
       "    <tr>\n",
       "      <th>0</th>\n",
       "      <td>10011646</td>\n",
       "      <td>Linksys EtherFast EZXS88W Ethernet Switch - EZ...</td>\n",
       "      <td>Linksys EtherFast 8-Port 10/100 Switch (New/Wo...</td>\n",
       "      <td>LINKSYS</td>\n",
       "      <td>NaN</td>\n",
       "    </tr>\n",
       "    <tr>\n",
       "      <th>1</th>\n",
       "      <td>10140760</td>\n",
       "      <td>Linksys EtherFast EZXS55W Ethernet Switch</td>\n",
       "      <td>5 x 10/100Base-TX LAN</td>\n",
       "      <td>LINKSYS</td>\n",
       "      <td>NaN</td>\n",
       "    </tr>\n",
       "    <tr>\n",
       "      <th>2</th>\n",
       "      <td>10221960</td>\n",
       "      <td>Netgear ProSafe FS105 Ethernet Switch - FS105NA</td>\n",
       "      <td>NETGEAR FS105 Prosafe 5 Port 10/100 Desktop Sw...</td>\n",
       "      <td>Netgear</td>\n",
       "      <td>NaN</td>\n",
       "    </tr>\n",
       "    <tr>\n",
       "      <th>3</th>\n",
       "      <td>10246269</td>\n",
       "      <td>Belkin Pro Series High Integrity VGA/SVGA Moni...</td>\n",
       "      <td>1 x HD-15 - 1 x HD-15 - 10ft - Beige</td>\n",
       "      <td>Belkin</td>\n",
       "      <td>NaN</td>\n",
       "    </tr>\n",
       "    <tr>\n",
       "      <th>4</th>\n",
       "      <td>10315184</td>\n",
       "      <td>Netgear ProSafe JFS516 Ethernet Switch</td>\n",
       "      <td>Netgear ProSafe 16 Port 10/100 Rackmount Switc...</td>\n",
       "      <td>Netgear</td>\n",
       "      <td>NaN</td>\n",
       "    </tr>\n",
       "  </tbody>\n",
       "</table>\n",
       "</div>"
      ],
      "text/plain": [
       "         id                                               name  \\\n",
       "0  10011646  Linksys EtherFast EZXS88W Ethernet Switch - EZ...   \n",
       "1  10140760          Linksys EtherFast EZXS55W Ethernet Switch   \n",
       "2  10221960    Netgear ProSafe FS105 Ethernet Switch - FS105NA   \n",
       "3  10246269  Belkin Pro Series High Integrity VGA/SVGA Moni...   \n",
       "4  10315184             Netgear ProSafe JFS516 Ethernet Switch   \n",
       "\n",
       "                                         description manufacturer price  \n",
       "0  Linksys EtherFast 8-Port 10/100 Switch (New/Wo...      LINKSYS   NaN  \n",
       "1                              5 x 10/100Base-TX LAN      LINKSYS   NaN  \n",
       "2  NETGEAR FS105 Prosafe 5 Port 10/100 Desktop Sw...      Netgear   NaN  \n",
       "3               1 x HD-15 - 1 x HD-15 - 10ft - Beige       Belkin   NaN  \n",
       "4  Netgear ProSafe 16 Port 10/100 Rackmount Switc...      Netgear   NaN  "
      ]
     },
     "metadata": {},
     "output_type": "display_data"
    },
    {
     "name": "stdout",
     "output_type": "stream",
     "text": [
      "\n",
      "total number of rows:\n"
     ]
    },
    {
     "data": {
      "text/html": [
       "<div>\n",
       "<style>\n",
       "    .dataframe thead tr:only-child th {\n",
       "        text-align: right;\n",
       "    }\n",
       "\n",
       "    .dataframe thead th {\n",
       "        text-align: left;\n",
       "    }\n",
       "\n",
       "    .dataframe tbody tr th {\n",
       "        vertical-align: top;\n",
       "    }\n",
       "</style>\n",
       "<table border=\"1\" class=\"dataframe\">\n",
       "  <thead>\n",
       "    <tr style=\"text-align: right;\">\n",
       "      <th></th>\n",
       "      <th>id</th>\n",
       "      <th>name</th>\n",
       "      <th>description</th>\n",
       "      <th>manufacturer</th>\n",
       "      <th>price</th>\n",
       "    </tr>\n",
       "  </thead>\n",
       "  <tbody>\n",
       "    <tr>\n",
       "      <th>total</th>\n",
       "      <td>1092</td>\n",
       "      <td>1092</td>\n",
       "      <td>651</td>\n",
       "      <td>1086</td>\n",
       "      <td>590</td>\n",
       "    </tr>\n",
       "  </tbody>\n",
       "</table>\n",
       "</div>"
      ],
      "text/plain": [
       "         id  name  description  manufacturer  price\n",
       "total  1092  1092          651          1086    590"
      ]
     },
     "metadata": {},
     "output_type": "display_data"
    },
    {
     "name": "stdout",
     "output_type": "stream",
     "text": [
      "\n",
      "\n",
      "datasets/Abt-Buy/abt_buy_perfectMapping.csv\n",
      "\n",
      "first 5 rows:\n"
     ]
    },
    {
     "data": {
      "text/html": [
       "<div>\n",
       "<style>\n",
       "    .dataframe thead tr:only-child th {\n",
       "        text-align: right;\n",
       "    }\n",
       "\n",
       "    .dataframe thead th {\n",
       "        text-align: left;\n",
       "    }\n",
       "\n",
       "    .dataframe tbody tr th {\n",
       "        vertical-align: top;\n",
       "    }\n",
       "</style>\n",
       "<table border=\"1\" class=\"dataframe\">\n",
       "  <thead>\n",
       "    <tr style=\"text-align: right;\">\n",
       "      <th></th>\n",
       "      <th>idAbt</th>\n",
       "      <th>idBuy</th>\n",
       "    </tr>\n",
       "  </thead>\n",
       "  <tbody>\n",
       "    <tr>\n",
       "      <th>0</th>\n",
       "      <td>38477</td>\n",
       "      <td>10011646</td>\n",
       "    </tr>\n",
       "    <tr>\n",
       "      <th>1</th>\n",
       "      <td>38475</td>\n",
       "      <td>10140760</td>\n",
       "    </tr>\n",
       "    <tr>\n",
       "      <th>2</th>\n",
       "      <td>33053</td>\n",
       "      <td>10221960</td>\n",
       "    </tr>\n",
       "    <tr>\n",
       "      <th>3</th>\n",
       "      <td>27248</td>\n",
       "      <td>10246269</td>\n",
       "    </tr>\n",
       "    <tr>\n",
       "      <th>4</th>\n",
       "      <td>25262</td>\n",
       "      <td>10315184</td>\n",
       "    </tr>\n",
       "  </tbody>\n",
       "</table>\n",
       "</div>"
      ],
      "text/plain": [
       "   idAbt     idBuy\n",
       "0  38477  10011646\n",
       "1  38475  10140760\n",
       "2  33053  10221960\n",
       "3  27248  10246269\n",
       "4  25262  10315184"
      ]
     },
     "metadata": {},
     "output_type": "display_data"
    },
    {
     "name": "stdout",
     "output_type": "stream",
     "text": [
      "\n",
      "total number of rows:\n"
     ]
    },
    {
     "data": {
      "text/html": [
       "<div>\n",
       "<style>\n",
       "    .dataframe thead tr:only-child th {\n",
       "        text-align: right;\n",
       "    }\n",
       "\n",
       "    .dataframe thead th {\n",
       "        text-align: left;\n",
       "    }\n",
       "\n",
       "    .dataframe tbody tr th {\n",
       "        vertical-align: top;\n",
       "    }\n",
       "</style>\n",
       "<table border=\"1\" class=\"dataframe\">\n",
       "  <thead>\n",
       "    <tr style=\"text-align: right;\">\n",
       "      <th></th>\n",
       "      <th>idAbt</th>\n",
       "      <th>idBuy</th>\n",
       "    </tr>\n",
       "  </thead>\n",
       "  <tbody>\n",
       "    <tr>\n",
       "      <th>total</th>\n",
       "      <td>1097</td>\n",
       "      <td>1097</td>\n",
       "    </tr>\n",
       "  </tbody>\n",
       "</table>\n",
       "</div>"
      ],
      "text/plain": [
       "       idAbt  idBuy\n",
       "total   1097   1097"
      ]
     },
     "metadata": {},
     "output_type": "display_data"
    },
    {
     "name": "stdout",
     "output_type": "stream",
     "text": [
      "\n",
      "\n"
     ]
    }
   ],
   "source": [
    "def print_stats(fp):\n",
    "    print(fp)\n",
    "    df_data = pd.read_csv(fp, encoding='latin-1')\n",
    "    \n",
    "    print('\\nfirst 5 rows:')\n",
    "    display(df_data.head(5))\n",
    "    \n",
    "    stat = []\n",
    "    for i in range(df_data.shape[1]):\n",
    "        stat.append(df_data.shape[0] - df_data.iloc[:,i].isnull().sum())\n",
    "    df_stat = pd.DataFrame([stat], columns=df_data.columns.values.tolist())\n",
    "    df_stat.rename(index={0: 'total'}, inplace=True)\n",
    "    print('\\ntotal number of rows:')\n",
    "    display(df_stat.head(1))\n",
    "    print('\\n')\n",
    "    \n",
    "print_stats('datasets/Abt-Buy/abt.csv')\n",
    "print_stats('datasets/Abt-Buy/buy.csv')\n",
    "print_stats('datasets/Abt-Buy/abt_buy_perfectMapping.csv')"
   ]
  },
  {
   "cell_type": "markdown",
   "metadata": {
    "collapsed": true
   },
   "source": [
    "After a rough inspection, the summaries are:\n",
    "\n",
    "- Abt\n",
    "    - It has 1081 items and all items have `id`, `name` and `description`, only 414 items have `price`.\n",
    "    - It seems `name` is formed in the pattern `{product name} - {model}`\n",
    "- Buy\n",
    "    - It has 1092 items and all items have `id` and `name`, 1086 items have `manufacturer`, some items have description and prices.\n",
    "    - Some of the `name`s are formed in pattern `{product name} - {model}`, somes are `{product name} - {probably sku id}`\n",
    "- Most of the `name` have brand / manufacturer included.\n",
    "- There are 1097 matches in total."
   ]
  },
  {
   "cell_type": "markdown",
   "metadata": {},
   "source": [
    "## Construct RLTK components\n",
    "\n",
    "> One thing you should notice here is that my Record is not built immediately. I usually do a very basic one first, then evaluate the linkage result to find what should be improved. It's like a feedback system, after serveral rounds improvement, you should get a better Record.\n",
    "\n",
    "My personal assumption is, brand (manufacturer) and model can be two strong indicators: if two records have same brand and same model, there's a very high possibility that they belong to same entity.\n",
    "\n",
    "So I write couple of functions to do tokenization, model & brand extraction, name alias parsing."
   ]
  },
  {
   "cell_type": "code",
   "execution_count": 19,
   "metadata": {
    "collapsed": true
   },
   "outputs": [],
   "source": [
    "import rltk\n",
    "\n",
    "tokenizer = rltk.CrfTokenizer()\n",
    "\n",
    "\n",
    "model_stop_words = set([])\n",
    "with open('Abt-Buy/rltk_exp/stop_words_model.txt') as f:\n",
    "    for line in f:\n",
    "        line = line.strip().lower()\n",
    "        if line:\n",
    "            model_stop_words.add(line)\n",
    "\n",
    "\n",
    "def extract_possible_model(s):\n",
    "    possible_models = []\n",
    "    tokens = s.split(' ')\n",
    "\n",
    "    for t in tokens:\n",
    "        t = t.replace('(', '').replace(')', '')\n",
    "        if len(t) < 2 or t in model_stop_words:\n",
    "            continue\n",
    "\n",
    "        if t.isdigit():\n",
    "            possible_models.append(t)\n",
    "            continue\n",
    "\n",
    "        has_digit = has_alpha = False\n",
    "        for c in t:\n",
    "            if c.isdigit():\n",
    "                has_digit = True\n",
    "            elif c.isalpha():\n",
    "                has_alpha = True\n",
    "            if has_digit and has_alpha:\n",
    "                possible_models.append(t)\n",
    "\n",
    "    possible_models.sort(key=len, reverse=True)\n",
    "\n",
    "    return possible_models[0] if len(possible_models) > 0 else ''\n",
    "\n",
    "\n",
    "def tokenize(s):\n",
    "    tokens = tokenizer.tokenize(s)\n",
    "    return [w.lower() for w in tokens if w.isalpha()]\n",
    "\n",
    "\n",
    "def get_brand_name(tokens):\n",
    "    for word_len in range(min(5, len(tokens)), 0, -1):\n",
    "        i = 0; j = i + word_len\n",
    "        while j <= len(tokens):\n",
    "            name = ' '.join(tokens[i:j])\n",
    "            if name in brand_list:\n",
    "                return name\n",
    "            i += 1; j += 1\n",
    "    return ''\n",
    "\n",
    "\n",
    "def process_brand_alias(alias):\n",
    "    return brand_mapping.get(alias, alias)\n",
    "\n",
    "\n",
    "brand_list = set([])\n",
    "with open('Abt-Buy/rltk_exp/brands.txt') as f:\n",
    "    for line in f:\n",
    "        line = line.strip().lower()\n",
    "        if len(line) == 0:\n",
    "            continue\n",
    "        brand_list.add(' '.join(tokenize(line)))\n",
    "\n",
    "brand_mapping = {}\n",
    "with open('Abt-Buy/rltk_exp/brand_alias.txt') as f:\n",
    "    for line in f:\n",
    "        alias = [w.strip().lower() for w in line.split('|')]\n",
    "        for name in alias:\n",
    "            brand_mapping[name] = alias[0]"
   ]
  },
  {
   "cell_type": "markdown",
   "metadata": {},
   "source": [
    "Then, I build Records and Datasets."
   ]
  },
  {
   "cell_type": "code",
   "execution_count": 20,
   "metadata": {
    "collapsed": true
   },
   "outputs": [],
   "source": [
    "class AbtRecord(rltk.Record):\n",
    "    def __init__(self, raw_object):\n",
    "        super().__init__(raw_object)\n",
    "        self.brand = ''\n",
    "\n",
    "    @rltk.cached_property\n",
    "    def id(self):\n",
    "        return self.raw_object['id']\n",
    "\n",
    "    @rltk.cached_property\n",
    "    def name(self):\n",
    "        return self.raw_object['name'].split(' - ')[0]\n",
    "\n",
    "    @rltk.cached_property\n",
    "    def name_tokens(self):\n",
    "        tokens = tokenize(self.name)\n",
    "\n",
    "        self.brand = get_brand_name(tokens)\n",
    "\n",
    "        return set(tokens)\n",
    "\n",
    "    @rltk.cached_property\n",
    "    def model(self):\n",
    "        ss = self.raw_object['name'].split(' - ')\n",
    "        return ss[-1].strip() if len(ss) > 1 else ''\n",
    "\n",
    "    @rltk.cached_property\n",
    "    def description(self):\n",
    "        return self.raw_object.get('description', '')\n",
    "\n",
    "    @rltk.cached_property\n",
    "    def price(self):\n",
    "        p = self.raw_object.get('price', '')\n",
    "        if p.startswith('$'):\n",
    "            p = p[1:].replace(',', '')\n",
    "        return p\n",
    "\n",
    "    @rltk.cached_property\n",
    "    def brand_cleaned(self):\n",
    "        _ = self.name_tokens\n",
    "        return process_brand_alias(self.brand)\n",
    "\n",
    "    @rltk.cached_property\n",
    "    def model_cleaned(self):\n",
    "        m = self.model\n",
    "        return m.lower().replace('-', '').replace('/', '').replace('&', '')"
   ]
  },
  {
   "cell_type": "code",
   "execution_count": 21,
   "metadata": {
    "collapsed": true
   },
   "outputs": [],
   "source": [
    "class BuyRecord(rltk.Record):\n",
    "    def __init__(self, raw_object):\n",
    "        super().__init__(raw_object)\n",
    "        self.brand = ''\n",
    "\n",
    "    @rltk.cached_property\n",
    "    def id(self):\n",
    "        return self.raw_object['id']\n",
    "\n",
    "    @rltk.cached_property\n",
    "    def name(self):\n",
    "        return self.raw_object['name'].split(' - ')[0]\n",
    "\n",
    "    @rltk.cached_property\n",
    "    def name_tokens(self):\n",
    "        tokens = tokenize(self.name)\n",
    "        self.brand = get_brand_name(tokens)\n",
    "        return set(tokens)\n",
    "\n",
    "    @rltk.cached_property\n",
    "    def description(self):\n",
    "        return self.raw_object.get('description', '')\n",
    "\n",
    "    @rltk.cached_property\n",
    "    def manufacturer(self):\n",
    "        return self.raw_object.get('manufacturer', '').lower()\n",
    "\n",
    "    @rltk.cached_property\n",
    "    def price(self):\n",
    "        p = self.raw_object.get('price', '')\n",
    "        if p.startswith('$'):\n",
    "            p = p[1:].replace(',', '')\n",
    "        return p\n",
    "\n",
    "    @rltk.cached_property\n",
    "    def model(self):\n",
    "        ss = self.raw_object['name'].split(' - ')\n",
    "        ss = ss[0].strip()\n",
    "\n",
    "        return extract_possible_model(ss)\n",
    "\n",
    "    @rltk.cached_property\n",
    "    def name_suffix(self): # could probably be the model\n",
    "        ss = self.raw_object['name'].split(' - ')\n",
    "        return BuyRecord._clean(ss[-1]) if len(ss) > 1 else ''\n",
    "\n",
    "    @staticmethod\n",
    "    def _clean(s):\n",
    "        return s.lower().replace('-', '').replace('/', '').replace('&', '')\n",
    "\n",
    "    @rltk.cached_property\n",
    "    def brand_cleaned(self):\n",
    "        _ = self.name_tokens\n",
    "        manufacturer = self.manufacturer\n",
    "        return process_brand_alias(manufacturer if manufacturer != '' else self.brand)\n",
    "\n",
    "    @rltk.cached_property\n",
    "    def model_cleaned(self):\n",
    "        m = self.model\n",
    "        return BuyRecord._clean(m)"
   ]
  },
  {
   "cell_type": "code",
   "execution_count": 22,
   "metadata": {
    "collapsed": true
   },
   "outputs": [],
   "source": [
    "ds_abt = rltk.Dataset(reader=rltk.CSVReader(open('datasets/Abt-Buy/Abt.csv', encoding='latin-1')),\n",
    "                   record_class=AbtRecord, adapter=rltk.MemoryAdapter())\n",
    "\n",
    "ds_buy = rltk.Dataset(reader=rltk.CSVReader(open('datasets/Abt-Buy/Buy.csv', encoding='latin-1')),\n",
    "                   record_class=BuyRecord, adapter=rltk.MemoryAdapter())"
   ]
  },
  {
   "cell_type": "markdown",
   "metadata": {},
   "source": [
    "Notes:\n",
    "\n",
    "- `cached_property` is set for pre-computing. It's recommended to use if the property generating is time consuming.\n",
    "- If you are using persistent Adapter (Redis, HBase) in Dataset, you can reuse it by calling `rltk.Dataset(adapter=...)` without other parameters.\n",
    "\n",
    "## Rule based solution\n",
    "\n",
    "One traditional way of solving record linkage problem is using some rules.\n",
    "\n",
    "### Build ground truth\n",
    "\n",
    "Since abt_buy_perfectMapping.csv contains all positives, the combinations of two records should be negative. There are lot of ways to generate negatives and RLTK also provides many methods.\n",
    "\n",
    "My plan here is to use first 100 perfect matches as positive and generate all negatives based the cross product of all ids appear in these matches."
   ]
  },
  {
   "cell_type": "code",
   "execution_count": 23,
   "metadata": {},
   "outputs": [],
   "source": [
    "gt = rltk.GroundTruth()\n",
    "line_count = 0\n",
    "with open('datasets/Abt-Buy/abt_buy_perfectMapping.csv', encoding='latin-1') as f:\n",
    "    for d in rltk.CSVReader(f): # this can be replace to python csv reader\n",
    "        gt.add_positive(d['idAbt'], d['idBuy'])\n",
    "gt.generate_all_negatives(ds_abt, ds_buy, range_in_gt=True)"
   ]
  },
  {
   "cell_type": "markdown",
   "metadata": {},
   "source": [
    "### Generate results\n",
    "\n",
    "Let's come up with some rules and generate results."
   ]
  },
  {
   "cell_type": "code",
   "execution_count": 24,
   "metadata": {
    "collapsed": true
   },
   "outputs": [],
   "source": [
    "def rule_based_method(r_abt, r_buy):\n",
    "    brand_score = 0\n",
    "    if r_abt.brand_cleaned and r_buy.brand_cleaned:\n",
    "        if r_abt.brand_cleaned == r_buy.brand_cleaned:\n",
    "            brand_score = 1\n",
    "    model_score = 0\n",
    "    if r_abt.model_cleaned and r_buy.model_cleaned:\n",
    "        if r_abt.model_cleaned == r_buy.model_cleaned:\n",
    "            model_score = 1\n",
    "    jaccard_score = rltk.jaccard_index_similarity(r_abt.name_tokens, r_buy.name_tokens)\n",
    "\n",
    "    if model_score == 1:\n",
    "        return True\n",
    "\n",
    "    total = brand_score * 0.3 + model_score * 0.3 + jaccard_score * 0.4\n",
    "    return total > 0.45"
   ]
  },
  {
   "cell_type": "markdown",
   "metadata": {},
   "source": [
    "Trial can be used to record and evaluate results."
   ]
  },
  {
   "cell_type": "code",
   "execution_count": 25,
   "metadata": {},
   "outputs": [],
   "source": [
    "trial = rltk.Trial(gt)\n",
    "candidate_pairs = rltk.get_record_pairs(ds_abt, ds_buy, ground_truth=gt)\n",
    "for r_abt, r_buy in candidate_pairs:\n",
    "    result = rule_based_method(r_abt, r_buy)\n",
    "    trial.add_result(r_abt, r_buy, result)"
   ]
  },
  {
   "cell_type": "markdown",
   "metadata": {
    "collapsed": true
   },
   "source": [
    "### Evaluation"
   ]
  },
  {
   "cell_type": "code",
   "execution_count": 27,
   "metadata": {},
   "outputs": [
    {
     "name": "stdout",
     "output_type": "stream",
     "text": [
      "0.7082953509571559 0.0018527076240826554 0.9981472923759174 0.2917046490428441 0.26232275489534096 0.7082953509571559 0.38285291943828526\n",
      "tp: 777\n",
      "fp: 2185\n",
      "tn: 1177170\n",
      "fn: 320\n"
     ]
    }
   ],
   "source": [
    "trial.evaluate()\n",
    "print(trial.true_positives, trial.false_positives, trial.true_negatives, trial.false_negatives,\n",
    "      trial.precision, trial.recall, trial.f_measure)\n",
    "print('tp:', len(trial.true_positives_list))\n",
    "print('fp:', len(trial.false_positives_list))\n",
    "print('tn:', len(trial.true_negatives_list))\n",
    "print('fn:', len(trial.false_negatives_list))"
   ]
  },
  {
   "cell_type": "code",
   "execution_count": null,
   "metadata": {
    "collapsed": true
   },
   "outputs": [],
   "source": []
  }
 ],
 "metadata": {
  "kernelspec": {
   "display_name": "Python 3",
   "language": "python",
   "name": "python3"
  },
  "language_info": {
   "codemirror_mode": {
    "name": "ipython",
    "version": 3
   },
   "file_extension": ".py",
   "mimetype": "text/x-python",
   "name": "python",
   "nbconvert_exporter": "python",
   "pygments_lexer": "ipython3",
   "version": "3.6.1"
  }
 },
 "nbformat": 4,
 "nbformat_minor": 1
}
